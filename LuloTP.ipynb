{
  "nbformat": 4,
  "nbformat_minor": 0,
  "metadata": {
    "colab": {
      "name": "LuloTP.ipynb",
      "provenance": [],
      "collapsed_sections": [],
      "authorship_tag": "ABX9TyOhFT/Pb+iqRnUl3wv0FCwn",
      "include_colab_link": true
    },
    "kernelspec": {
      "name": "python3",
      "display_name": "Python 3"
    },
    "language_info": {
      "name": "python"
    }
  },
  "cells": [
    {
      "cell_type": "markdown",
      "metadata": {
        "id": "view-in-github",
        "colab_type": "text"
      },
      "source": [
        "<a href=\"https://colab.research.google.com/github/AlejoMoncada/DA/blob/main/LuloTP.ipynb\" target=\"_parent\"><img src=\"https://colab.research.google.com/assets/colab-badge.svg\" alt=\"Open In Colab\"/></a>"
      ]
    },
    {
      "cell_type": "code",
      "execution_count": 2,
      "metadata": {
        "id": "Jizly7B7yF41"
      },
      "outputs": [],
      "source": [
        "import pandas as pd\n",
        "import numpy as np\n",
        "import glob \n",
        "import altair as alt\n",
        "from pandas_profiling import ProfileReport"
      ]
    },
    {
      "cell_type": "code",
      "source": [
        "from pandas.core.reshape.merge import string\n",
        "#Se inicia con la obtención de los datos para el presente mes de 2022-12-*\n",
        "path_base =\"http://api.tvmaze.com/schedule/web?date=2020-12-\"\n",
        "archivo= pd.read_json(path_base +\"01\")\n",
        "\n",
        "#array=np.empty(31, str)\n",
        "#se usa el Zfill para agregar digito falante a los datos <10.\n",
        "for ix in range(31):\n",
        "  #pd.read_json\n",
        "  df=pd.read_json(path_base +str(ix+1).zfill(2))\n",
        "  df.to_json(str(ix+1).zfill(2)+'.json')\n",
        "  print(path_base +str(ix+1).zfill(2) + ' Export Complete')"
      ],
      "metadata": {
        "colab": {
          "base_uri": "https://localhost:8080/"
        },
        "id": "vLuoXFvbyMFZ",
        "outputId": "af99e768-8594-484d-a7ee-840c9fec64dc"
      },
      "execution_count": 3,
      "outputs": [
        {
          "output_type": "stream",
          "name": "stdout",
          "text": [
            "http://api.tvmaze.com/schedule/web?date=2020-12-01 Export Complete\n",
            "http://api.tvmaze.com/schedule/web?date=2020-12-02 Export Complete\n",
            "http://api.tvmaze.com/schedule/web?date=2020-12-03 Export Complete\n",
            "http://api.tvmaze.com/schedule/web?date=2020-12-04 Export Complete\n",
            "http://api.tvmaze.com/schedule/web?date=2020-12-05 Export Complete\n",
            "http://api.tvmaze.com/schedule/web?date=2020-12-06 Export Complete\n",
            "http://api.tvmaze.com/schedule/web?date=2020-12-07 Export Complete\n",
            "http://api.tvmaze.com/schedule/web?date=2020-12-08 Export Complete\n",
            "http://api.tvmaze.com/schedule/web?date=2020-12-09 Export Complete\n",
            "http://api.tvmaze.com/schedule/web?date=2020-12-10 Export Complete\n",
            "http://api.tvmaze.com/schedule/web?date=2020-12-11 Export Complete\n",
            "http://api.tvmaze.com/schedule/web?date=2020-12-12 Export Complete\n",
            "http://api.tvmaze.com/schedule/web?date=2020-12-13 Export Complete\n",
            "http://api.tvmaze.com/schedule/web?date=2020-12-14 Export Complete\n",
            "http://api.tvmaze.com/schedule/web?date=2020-12-15 Export Complete\n",
            "http://api.tvmaze.com/schedule/web?date=2020-12-16 Export Complete\n",
            "http://api.tvmaze.com/schedule/web?date=2020-12-17 Export Complete\n",
            "http://api.tvmaze.com/schedule/web?date=2020-12-18 Export Complete\n",
            "http://api.tvmaze.com/schedule/web?date=2020-12-19 Export Complete\n",
            "http://api.tvmaze.com/schedule/web?date=2020-12-20 Export Complete\n",
            "http://api.tvmaze.com/schedule/web?date=2020-12-21 Export Complete\n",
            "http://api.tvmaze.com/schedule/web?date=2020-12-22 Export Complete\n",
            "http://api.tvmaze.com/schedule/web?date=2020-12-23 Export Complete\n",
            "http://api.tvmaze.com/schedule/web?date=2020-12-24 Export Complete\n",
            "http://api.tvmaze.com/schedule/web?date=2020-12-25 Export Complete\n",
            "http://api.tvmaze.com/schedule/web?date=2020-12-26 Export Complete\n",
            "http://api.tvmaze.com/schedule/web?date=2020-12-27 Export Complete\n",
            "http://api.tvmaze.com/schedule/web?date=2020-12-28 Export Complete\n",
            "http://api.tvmaze.com/schedule/web?date=2020-12-29 Export Complete\n",
            "http://api.tvmaze.com/schedule/web?date=2020-12-30 Export Complete\n",
            "http://api.tvmaze.com/schedule/web?date=2020-12-31 Export Complete\n"
          ]
        }
      ]
    },
    {
      "cell_type": "code",
      "source": [
        "rutas = glob.glob(\"*\"+\".json\")\n",
        "partes_glob = [pd.read_json(ruta) for ruta in rutas]\n"
      ],
      "metadata": {
        "id": "741PJWdwyljB"
      },
      "execution_count": 4,
      "outputs": []
    },
    {
      "cell_type": "code",
      "source": [
        "TV_Maze = pd.concat(partes_glob)"
      ],
      "metadata": {
        "id": "wL2SYdwEzEhv"
      },
      "execution_count": 14,
      "outputs": []
    },
    {
      "cell_type": "code",
      "source": [
        "TV_Maze.columns"
      ],
      "metadata": {
        "colab": {
          "base_uri": "https://localhost:8080/"
        },
        "id": "A8nyUgQxzkzo",
        "outputId": "845afb6a-4d09-4e8a-be2e-7495a128eff6"
      },
      "execution_count": 15,
      "outputs": [
        {
          "output_type": "execute_result",
          "data": {
            "text/plain": [
              "Index(['id', 'url', 'name', 'season', 'number', 'type', 'airdate', 'airtime',\n",
              "       'airstamp', 'runtime', 'rating', 'image', 'summary', '_links',\n",
              "       '_embedded'],\n",
              "      dtype='object')"
            ]
          },
          "metadata": {},
          "execution_count": 15
        }
      ]
    },
    {
      "cell_type": "code",
      "source": [
        "#Distribución de Fechas\n",
        "plot = TV_Maze['type'].value_counts().plot(kind='pie',autopct='%.2f',\n",
        "                                           figsize=(6,6),\n",
        "                                           title='Distribución por Type de programa') \n",
        "plot\n",
        "#/len( TV_Maze['type'])."
      ],
      "metadata": {
        "colab": {
          "base_uri": "https://localhost:8080/"
        },
        "id": "kBuqQXyYaoCE",
        "outputId": "70277907-466c-4f9a-9456-f0dc89be763b"
      },
      "execution_count": 38,
      "outputs": [
        {
          "output_type": "execute_result",
          "data": {
            "text/plain": [
              "<matplotlib.axes._subplots.AxesSubplot at 0x7fc6097799d0>"
            ]
          },
          "metadata": {},
          "execution_count": 38
        }
      ]
    },
    {
      "cell_type": "code",
      "source": [],
      "metadata": {
        "id": "2QW2PdaMluyN"
      },
      "execution_count": 31,
      "outputs": []
    },
    {
      "cell_type": "code",
      "source": [],
      "metadata": {
        "id": "oXrEwjR3nSBj"
      },
      "execution_count": null,
      "outputs": []
    }
  ]
}